{
 "cells": [
  {
   "cell_type": "code",
   "execution_count": 1,
   "id": "87fadfcb",
   "metadata": {
    "_cell_guid": "b1076dfc-b9ad-4769-8c92-a6c4dae69d19",
    "_uuid": "8f2839f25d086af736a60e9eeb907d3b93b6e0e5",
    "execution": {
     "iopub.execute_input": "2022-12-07T20:16:12.424578Z",
     "iopub.status.busy": "2022-12-07T20:16:12.424200Z",
     "iopub.status.idle": "2022-12-07T20:16:12.439338Z",
     "shell.execute_reply": "2022-12-07T20:16:12.438759Z"
    },
    "papermill": {
     "duration": 0.021986,
     "end_time": "2022-12-07T20:16:12.441242",
     "exception": false,
     "start_time": "2022-12-07T20:16:12.419256",
     "status": "completed"
    },
    "tags": []
   },
   "outputs": [
    {
     "name": "stdout",
     "output_type": "stream",
     "text": [
      "/kaggle/input/superstore-dataset/Superstore Dataset.xlsx\n"
     ]
    }
   ],
   "source": [
    "# This Python 3 environment comes with many helpful analytics libraries installed\n",
    "# It is defined by the kaggle/python Docker image: https://github.com/kaggle/docker-python\n",
    "# For example, here's several helpful packages to load\n",
    "\n",
    "import numpy as np # linear algebra\n",
    "import pandas as pd # data processing, CSV file I/O (e.g. pd.read_csv)\n",
    "\n",
    "# Input data files are available in the read-only \"../input/\" directory\n",
    "# For example, running this (by clicking run or pressing Shift+Enter) will list all files under the input directory\n",
    "\n",
    "import os\n",
    "for dirname, _, filenames in os.walk('/kaggle/input'):\n",
    "    for filename in filenames:\n",
    "        print(os.path.join(dirname, filename))\n",
    "\n",
    "# You can write up to 20GB to the current directory (/kaggle/working/) that gets preserved as output when you create a version using \"Save & Run All\" \n",
    "# You can also write temporary files to /kaggle/temp/, but they won't be saved outside of the current session"
   ]
  },
  {
   "cell_type": "markdown",
   "id": "209fdd97",
   "metadata": {
    "papermill": {
     "duration": 0.002445,
     "end_time": "2022-12-07T20:16:12.446695",
     "exception": false,
     "start_time": "2022-12-07T20:16:12.444250",
     "status": "completed"
    },
    "tags": []
   },
   "source": [
    "## Input of the data"
   ]
  },
  {
   "cell_type": "markdown",
   "id": "b6cf67c3",
   "metadata": {
    "papermill": {
     "duration": 0.002332,
     "end_time": "2022-12-07T20:16:12.451586",
     "exception": false,
     "start_time": "2022-12-07T20:16:12.449254",
     "status": "completed"
    },
    "tags": []
   },
   "source": [
    "#### Reading **orders** sheet"
   ]
  },
  {
   "cell_type": "code",
   "execution_count": 2,
   "id": "3bf05adb",
   "metadata": {
    "execution": {
     "iopub.execute_input": "2022-12-07T20:16:12.458807Z",
     "iopub.status.busy": "2022-12-07T20:16:12.457931Z",
     "iopub.status.idle": "2022-12-07T20:16:14.504033Z",
     "shell.execute_reply": "2022-12-07T20:16:14.503056Z"
    },
    "papermill": {
     "duration": 2.052144,
     "end_time": "2022-12-07T20:16:14.506293",
     "exception": false,
     "start_time": "2022-12-07T20:16:12.454149",
     "status": "completed"
    },
    "tags": []
   },
   "outputs": [
    {
     "data": {
      "text/html": [
       "<div>\n",
       "<style scoped>\n",
       "    .dataframe tbody tr th:only-of-type {\n",
       "        vertical-align: middle;\n",
       "    }\n",
       "\n",
       "    .dataframe tbody tr th {\n",
       "        vertical-align: top;\n",
       "    }\n",
       "\n",
       "    .dataframe thead th {\n",
       "        text-align: right;\n",
       "    }\n",
       "</style>\n",
       "<table border=\"1\" class=\"dataframe\">\n",
       "  <thead>\n",
       "    <tr style=\"text-align: right;\">\n",
       "      <th></th>\n",
       "      <th>Row ID+O6G3A1:R6</th>\n",
       "      <th>Order ID</th>\n",
       "      <th>Order Date</th>\n",
       "      <th>Ship Date</th>\n",
       "      <th>Ship Mode</th>\n",
       "      <th>Customer ID</th>\n",
       "      <th>Customer Name</th>\n",
       "      <th>Segment</th>\n",
       "      <th>Country</th>\n",
       "      <th>City</th>\n",
       "      <th>State</th>\n",
       "      <th>Region</th>\n",
       "      <th>Product ID</th>\n",
       "      <th>Category</th>\n",
       "      <th>Sub-Category</th>\n",
       "      <th>Product Name</th>\n",
       "      <th>Sales</th>\n",
       "      <th>Quantity</th>\n",
       "      <th>Profit</th>\n",
       "    </tr>\n",
       "  </thead>\n",
       "  <tbody>\n",
       "    <tr>\n",
       "      <th>0</th>\n",
       "      <td>1</td>\n",
       "      <td>CA-2019-152156</td>\n",
       "      <td>2019-11-08</td>\n",
       "      <td>2019-11-11</td>\n",
       "      <td>Second Class</td>\n",
       "      <td>CG-12520</td>\n",
       "      <td>Claire Gute</td>\n",
       "      <td>Consumer</td>\n",
       "      <td>United States</td>\n",
       "      <td>Henderson</td>\n",
       "      <td>Kentucky</td>\n",
       "      <td>South</td>\n",
       "      <td>FUR-BO-10001798</td>\n",
       "      <td>Furniture</td>\n",
       "      <td>Bookcases</td>\n",
       "      <td>Bush Somerset Collection Bookcase</td>\n",
       "      <td>261.960</td>\n",
       "      <td>2</td>\n",
       "      <td>41.9136</td>\n",
       "    </tr>\n",
       "    <tr>\n",
       "      <th>1</th>\n",
       "      <td>2</td>\n",
       "      <td>CA-2019-152156</td>\n",
       "      <td>2019-11-08</td>\n",
       "      <td>2019-11-11</td>\n",
       "      <td>Second Class</td>\n",
       "      <td>CG-12520</td>\n",
       "      <td>Claire Gute</td>\n",
       "      <td>Consumer</td>\n",
       "      <td>United States</td>\n",
       "      <td>Henderson</td>\n",
       "      <td>Kentucky</td>\n",
       "      <td>South</td>\n",
       "      <td>FUR-CH-10000454</td>\n",
       "      <td>Furniture</td>\n",
       "      <td>Chairs</td>\n",
       "      <td>Hon Deluxe Fabric Upholstered Stacking Chairs,...</td>\n",
       "      <td>731.940</td>\n",
       "      <td>3</td>\n",
       "      <td>219.5820</td>\n",
       "    </tr>\n",
       "    <tr>\n",
       "      <th>2</th>\n",
       "      <td>3</td>\n",
       "      <td>CA-2019-138688</td>\n",
       "      <td>2019-06-12</td>\n",
       "      <td>2019-06-16</td>\n",
       "      <td>Second Class</td>\n",
       "      <td>DV-13045</td>\n",
       "      <td>Darrin Van Huff</td>\n",
       "      <td>Corporate</td>\n",
       "      <td>United States</td>\n",
       "      <td>Los Angeles</td>\n",
       "      <td>California</td>\n",
       "      <td>West</td>\n",
       "      <td>OFF-LA-10000240</td>\n",
       "      <td>Office Supplies</td>\n",
       "      <td>Labels</td>\n",
       "      <td>Self-Adhesive Address Labels for Typewriters b...</td>\n",
       "      <td>14.620</td>\n",
       "      <td>2</td>\n",
       "      <td>6.8714</td>\n",
       "    </tr>\n",
       "    <tr>\n",
       "      <th>3</th>\n",
       "      <td>13</td>\n",
       "      <td>CA-2020-114412</td>\n",
       "      <td>2020-04-15</td>\n",
       "      <td>2020-04-20</td>\n",
       "      <td>Standard Class</td>\n",
       "      <td>AA-10480</td>\n",
       "      <td>Andrew Allen</td>\n",
       "      <td>Consumer</td>\n",
       "      <td>United States</td>\n",
       "      <td>Concord</td>\n",
       "      <td>North Carolina</td>\n",
       "      <td>South</td>\n",
       "      <td>OFF-PA-10002365</td>\n",
       "      <td>Office Supplies</td>\n",
       "      <td>Paper</td>\n",
       "      <td>Xerox 1967</td>\n",
       "      <td>15.552</td>\n",
       "      <td>3</td>\n",
       "      <td>5.4432</td>\n",
       "    </tr>\n",
       "    <tr>\n",
       "      <th>4</th>\n",
       "      <td>14</td>\n",
       "      <td>CA-2019-161389</td>\n",
       "      <td>2019-12-05</td>\n",
       "      <td>2019-12-10</td>\n",
       "      <td>Standard Class</td>\n",
       "      <td>IM-15070</td>\n",
       "      <td>Irene Maddox</td>\n",
       "      <td>Consumer</td>\n",
       "      <td>United States</td>\n",
       "      <td>Seattle</td>\n",
       "      <td>Washington</td>\n",
       "      <td>West</td>\n",
       "      <td>OFF-BI-10003656</td>\n",
       "      <td>Office Supplies</td>\n",
       "      <td>Binders</td>\n",
       "      <td>Fellowes PB200 Plastic Comb Binding Machine</td>\n",
       "      <td>407.976</td>\n",
       "      <td>3</td>\n",
       "      <td>132.5922</td>\n",
       "    </tr>\n",
       "  </tbody>\n",
       "</table>\n",
       "</div>"
      ],
      "text/plain": [
       "   Row ID+O6G3A1:R6        Order ID Order Date  Ship Date       Ship Mode  \\\n",
       "0                 1  CA-2019-152156 2019-11-08 2019-11-11    Second Class   \n",
       "1                 2  CA-2019-152156 2019-11-08 2019-11-11    Second Class   \n",
       "2                 3  CA-2019-138688 2019-06-12 2019-06-16    Second Class   \n",
       "3                13  CA-2020-114412 2020-04-15 2020-04-20  Standard Class   \n",
       "4                14  CA-2019-161389 2019-12-05 2019-12-10  Standard Class   \n",
       "\n",
       "  Customer ID    Customer Name    Segment        Country         City  \\\n",
       "0    CG-12520      Claire Gute   Consumer  United States    Henderson   \n",
       "1    CG-12520      Claire Gute   Consumer  United States    Henderson   \n",
       "2    DV-13045  Darrin Van Huff  Corporate  United States  Los Angeles   \n",
       "3    AA-10480     Andrew Allen   Consumer  United States      Concord   \n",
       "4    IM-15070     Irene Maddox   Consumer  United States      Seattle   \n",
       "\n",
       "            State Region       Product ID         Category Sub-Category  \\\n",
       "0        Kentucky  South  FUR-BO-10001798        Furniture    Bookcases   \n",
       "1        Kentucky  South  FUR-CH-10000454        Furniture       Chairs   \n",
       "2      California   West  OFF-LA-10000240  Office Supplies       Labels   \n",
       "3  North Carolina  South  OFF-PA-10002365  Office Supplies        Paper   \n",
       "4      Washington   West  OFF-BI-10003656  Office Supplies      Binders   \n",
       "\n",
       "                                        Product Name    Sales  Quantity  \\\n",
       "0                  Bush Somerset Collection Bookcase  261.960         2   \n",
       "1  Hon Deluxe Fabric Upholstered Stacking Chairs,...  731.940         3   \n",
       "2  Self-Adhesive Address Labels for Typewriters b...   14.620         2   \n",
       "3                                         Xerox 1967   15.552         3   \n",
       "4        Fellowes PB200 Plastic Comb Binding Machine  407.976         3   \n",
       "\n",
       "     Profit  \n",
       "0   41.9136  \n",
       "1  219.5820  \n",
       "2    6.8714  \n",
       "3    5.4432  \n",
       "4  132.5922  "
      ]
     },
     "execution_count": 2,
     "metadata": {},
     "output_type": "execute_result"
    }
   ],
   "source": [
    "orders = pd.read_excel('/kaggle/input/superstore-dataset/Superstore Dataset.xlsx', sheet_name = 'Orders')\n",
    "orders.head()"
   ]
  },
  {
   "cell_type": "markdown",
   "id": "7a0fface",
   "metadata": {
    "papermill": {
     "duration": 0.002702,
     "end_time": "2022-12-07T20:16:14.512155",
     "exception": false,
     "start_time": "2022-12-07T20:16:14.509453",
     "status": "completed"
    },
    "tags": []
   },
   "source": [
    "#### Reading **returns** sheet"
   ]
  },
  {
   "cell_type": "raw",
   "id": "4f1ae038",
   "metadata": {
    "execution": {
     "iopub.execute_input": "2022-12-07T17:20:10.897292Z",
     "iopub.status.busy": "2022-12-07T17:20:10.895643Z",
     "iopub.status.idle": "2022-12-07T17:20:11.178512Z",
     "shell.execute_reply": "2022-12-07T17:20:11.176950Z",
     "shell.execute_reply.started": "2022-12-07T17:20:10.897233Z"
    },
    "papermill": {
     "duration": 0.002598,
     "end_time": "2022-12-07T20:16:14.517586",
     "exception": false,
     "start_time": "2022-12-07T20:16:14.514988",
     "status": "completed"
    },
    "tags": []
   },
   "source": [
    "returns = pd.read_excel('/kaggle/input/superstore-dataset/Superstore Dataset.xlsx', sheet_name = 'Returns')\n",
    "returns.head()"
   ]
  },
  {
   "cell_type": "markdown",
   "id": "a83dec0e",
   "metadata": {
    "papermill": {
     "duration": 0.002602,
     "end_time": "2022-12-07T20:16:14.523052",
     "exception": false,
     "start_time": "2022-12-07T20:16:14.520450",
     "status": "completed"
    },
    "tags": []
   },
   "source": [
    "### Exploring **orders** table"
   ]
  },
  {
   "cell_type": "code",
   "execution_count": 3,
   "id": "74e2f4e9",
   "metadata": {
    "execution": {
     "iopub.execute_input": "2022-12-07T20:16:14.530082Z",
     "iopub.status.busy": "2022-12-07T20:16:14.529666Z",
     "iopub.status.idle": "2022-12-07T20:16:14.540062Z",
     "shell.execute_reply": "2022-12-07T20:16:14.539324Z"
    },
    "papermill": {
     "duration": 0.016154,
     "end_time": "2022-12-07T20:16:14.541975",
     "exception": false,
     "start_time": "2022-12-07T20:16:14.525821",
     "status": "completed"
    },
    "tags": []
   },
   "outputs": [],
   "source": [
    "orders.drop(['Row ID+O6G3A1:R6'], axis = 1, inplace = True)"
   ]
  },
  {
   "cell_type": "code",
   "execution_count": 4,
   "id": "a3a22e4d",
   "metadata": {
    "execution": {
     "iopub.execute_input": "2022-12-07T20:16:14.549387Z",
     "iopub.status.busy": "2022-12-07T20:16:14.549097Z",
     "iopub.status.idle": "2022-12-07T20:16:14.575734Z",
     "shell.execute_reply": "2022-12-07T20:16:14.574435Z"
    },
    "papermill": {
     "duration": 0.032803,
     "end_time": "2022-12-07T20:16:14.578011",
     "exception": false,
     "start_time": "2022-12-07T20:16:14.545208",
     "status": "completed"
    },
    "tags": []
   },
   "outputs": [
    {
     "name": "stdout",
     "output_type": "stream",
     "text": [
      "<class 'pandas.core.frame.DataFrame'>\n",
      "RangeIndex: 5899 entries, 0 to 5898\n",
      "Data columns (total 18 columns):\n",
      " #   Column         Non-Null Count  Dtype         \n",
      "---  ------         --------------  -----         \n",
      " 0   Order ID       5899 non-null   object        \n",
      " 1   Order Date     5899 non-null   datetime64[ns]\n",
      " 2   Ship Date      5899 non-null   datetime64[ns]\n",
      " 3   Ship Mode      5899 non-null   object        \n",
      " 4   Customer ID    5899 non-null   object        \n",
      " 5   Customer Name  5899 non-null   object        \n",
      " 6   Segment        5899 non-null   object        \n",
      " 7   Country        5899 non-null   object        \n",
      " 8   City           5899 non-null   object        \n",
      " 9   State          5899 non-null   object        \n",
      " 10  Region         5899 non-null   object        \n",
      " 11  Product ID     5899 non-null   object        \n",
      " 12  Category       5899 non-null   object        \n",
      " 13  Sub-Category   5899 non-null   object        \n",
      " 14  Product Name   5899 non-null   object        \n",
      " 15  Sales          5899 non-null   float64       \n",
      " 16  Quantity       5899 non-null   int64         \n",
      " 17  Profit         5899 non-null   float64       \n",
      "dtypes: datetime64[ns](2), float64(2), int64(1), object(13)\n",
      "memory usage: 829.7+ KB\n"
     ]
    }
   ],
   "source": [
    "orders.info()"
   ]
  },
  {
   "cell_type": "code",
   "execution_count": 5,
   "id": "751ecf9c",
   "metadata": {
    "execution": {
     "iopub.execute_input": "2022-12-07T20:16:14.586290Z",
     "iopub.status.busy": "2022-12-07T20:16:14.585444Z",
     "iopub.status.idle": "2022-12-07T20:16:14.591705Z",
     "shell.execute_reply": "2022-12-07T20:16:14.591028Z"
    },
    "papermill": {
     "duration": 0.012218,
     "end_time": "2022-12-07T20:16:14.593578",
     "exception": false,
     "start_time": "2022-12-07T20:16:14.581360",
     "status": "completed"
    },
    "tags": []
   },
   "outputs": [
    {
     "data": {
      "text/plain": [
       "array(['Consumer', 'Corporate', 'Home Office'], dtype=object)"
      ]
     },
     "execution_count": 5,
     "metadata": {},
     "output_type": "execute_result"
    }
   ],
   "source": [
    "orders['Segment'].unique()"
   ]
  },
  {
   "cell_type": "code",
   "execution_count": null,
   "id": "a6f764de",
   "metadata": {
    "papermill": {
     "duration": 0.002855,
     "end_time": "2022-12-07T20:16:14.599744",
     "exception": false,
     "start_time": "2022-12-07T20:16:14.596889",
     "status": "completed"
    },
    "tags": []
   },
   "outputs": [],
   "source": []
  }
 ],
 "metadata": {
  "kernelspec": {
   "display_name": "Python 3",
   "language": "python",
   "name": "python3"
  },
  "language_info": {
   "codemirror_mode": {
    "name": "ipython",
    "version": 3
   },
   "file_extension": ".py",
   "mimetype": "text/x-python",
   "name": "python",
   "nbconvert_exporter": "python",
   "pygments_lexer": "ipython3",
   "version": "3.7.12"
  },
  "papermill": {
   "default_parameters": {},
   "duration": 9.450866,
   "end_time": "2022-12-07T20:16:15.221790",
   "environment_variables": {},
   "exception": null,
   "input_path": "__notebook__.ipynb",
   "output_path": "__notebook__.ipynb",
   "parameters": {},
   "start_time": "2022-12-07T20:16:05.770924",
   "version": "2.3.4"
  }
 },
 "nbformat": 4,
 "nbformat_minor": 5
}
